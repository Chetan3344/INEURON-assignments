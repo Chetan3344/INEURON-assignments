{
 "cells": [
  {
   "cell_type": "markdown",
   "id": "873be185",
   "metadata": {},
   "source": [
    "Write a program which accepts a sequence of comma-separated numbers from console  and generate a list. "
   ]
  },
  {
   "cell_type": "code",
   "execution_count": 108,
   "id": "7ea5d976",
   "metadata": {},
   "outputs": [
    {
     "name": "stdout",
     "output_type": "stream",
     "text": [
      "1,2,3,44,55,6.7,8.8,9.99999,467\n"
     ]
    }
   ],
   "source": [
    "a=(input()).split(',')"
   ]
  },
  {
   "cell_type": "code",
   "execution_count": 109,
   "id": "7515cc02",
   "metadata": {},
   "outputs": [],
   "source": [
    "b=[]\n",
    "for i in a:\n",
    "    if i.isnumeric()==True or i.isdigit()==False:\n",
    "        b.append(float(i))\n",
    "        \n",
    "    "
   ]
  },
  {
   "cell_type": "code",
   "execution_count": 110,
   "id": "4af195e0",
   "metadata": {},
   "outputs": [
    {
     "data": {
      "text/plain": [
       "[1.0, 2.0, 3.0, 44.0, 55.0, 6.7, 8.8, 9.99999, 467.0]"
      ]
     },
     "execution_count": 110,
     "metadata": {},
     "output_type": "execute_result"
    }
   ],
   "source": [
    "b"
   ]
  },
  {
   "cell_type": "markdown",
   "id": "f58c3e87",
   "metadata": {},
   "source": [
    "Solution to the Question-2 in the assignment-2"
   ]
  },
  {
   "cell_type": "code",
   "execution_count": 2,
   "id": "1cdf1a50",
   "metadata": {},
   "outputs": [
    {
     "name": "stdout",
     "output_type": "stream",
     "text": [
      "* \n",
      "* * \n",
      "* * * \n",
      "* * * * \n",
      "* * * * * \n",
      "* * * * \n",
      "* * * \n",
      "* * \n",
      "* \n",
      "\n"
     ]
    }
   ],
   "source": [
    "for i in range(5):\n",
    "    for j in range(i+1):\n",
    "        print('*',end=\" \")\n",
    "    print('')\n",
    "\n",
    "for i in range(5):\n",
    "    for k in range(4-i):\n",
    "        print('*',end=' ')\n",
    "    print('')\n",
    "    \n",
    "    \n",
    "    \n",
    "\n",
    "    "
   ]
  },
  {
   "cell_type": "markdown",
   "id": "de282ece",
   "metadata": {},
   "source": [
    "Write a Python program to reverse a word after accepting the input from the user. "
   ]
  },
  {
   "cell_type": "code",
   "execution_count": 4,
   "id": "44220260",
   "metadata": {},
   "outputs": [
    {
     "name": "stdout",
     "output_type": "stream",
     "text": [
      "Enter a word=ineuron\n",
      "norueni"
     ]
    }
   ],
   "source": [
    "c=input(\"Enter a word=\")     ## with using for loop\n",
    "\n",
    "for i in range(len(c)):\n",
    "    print(c[(-(1+i))],end='')"
   ]
  },
  {
   "cell_type": "code",
   "execution_count": 54,
   "id": "83c2de8b",
   "metadata": {},
   "outputs": [
    {
     "name": "stdout",
     "output_type": "stream",
     "text": [
      "enter a word=inueron\n",
      "noreuni\n"
     ]
    }
   ],
   "source": [
    "d=input(\"enter a word=\")    ## without using for loop\n",
    " \n",
    "print(d[::-1])"
   ]
  },
  {
   "cell_type": "code",
   "execution_count": 66,
   "id": "6584eca4",
   "metadata": {},
   "outputs": [],
   "source": []
  },
  {
   "cell_type": "code",
   "execution_count": null,
   "id": "d935f262",
   "metadata": {},
   "outputs": [],
   "source": []
  }
 ],
 "metadata": {
  "kernelspec": {
   "display_name": "Python 3",
   "language": "python",
   "name": "python3"
  },
  "language_info": {
   "codemirror_mode": {
    "name": "ipython",
    "version": 3
   },
   "file_extension": ".py",
   "mimetype": "text/x-python",
   "name": "python",
   "nbconvert_exporter": "python",
   "pygments_lexer": "ipython3",
   "version": "3.8.8"
  }
 },
 "nbformat": 4,
 "nbformat_minor": 5
}
