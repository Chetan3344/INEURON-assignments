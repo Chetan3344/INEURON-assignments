{
 "cells": [
  {
   "cell_type": "code",
   "execution_count": 39,
   "id": "bff15924",
   "metadata": {},
   "outputs": [],
   "source": [
    "class tri_sides:\n",
    "    def __init__(self,s1,s2,s3):\n",
    "        self.s1=s1\n",
    "        self.s2=s2\n",
    "        self.s3=s3\n",
    "    "
   ]
  },
  {
   "cell_type": "code",
   "execution_count": 44,
   "id": "6b8d33e5",
   "metadata": {},
   "outputs": [],
   "source": [
    "class tri_area(tri_sides):\n",
    "    def __init__(self,*args):\n",
    "        super(tri_area,self).__init__(*args)\n",
    "          \n",
    "    \n",
    "    def area(self):\n",
    "        s=(self.s1+self.s2+self.s3)/2\n",
    "        area = (s*(s-self.s1)*(s-self.s2)*(s-self.s3)) ** 0.5 \n",
    "        \n",
    "        return area\n"
   ]
  },
  {
   "cell_type": "code",
   "execution_count": 45,
   "id": "18e1f40a",
   "metadata": {},
   "outputs": [],
   "source": [
    "t=tri_area(2,3,4)"
   ]
  },
  {
   "cell_type": "code",
   "execution_count": 46,
   "id": "84f99474",
   "metadata": {},
   "outputs": [
    {
     "data": {
      "text/plain": [
       "2.9047375096555625"
      ]
     },
     "execution_count": 46,
     "metadata": {},
     "output_type": "execute_result"
    }
   ],
   "source": [
    "t.area()"
   ]
  },
  {
   "cell_type": "markdown",
   "id": "1f1c279c",
   "metadata": {},
   "source": [
    "Question no-2: Write a function filter_long_words() that takes a list of words and an integer n and returns\n",
    "the list of words that are longer than n."
   ]
  },
  {
   "cell_type": "code",
   "execution_count": 32,
   "id": "a9a2320a",
   "metadata": {},
   "outputs": [],
   "source": [
    "def filter_long_words(string,n):\n",
    "    for i in string.lower().split():\n",
    "        if len(i)>n:\n",
    "            print(i)\n",
    "    "
   ]
  },
  {
   "cell_type": "code",
   "execution_count": 33,
   "id": "5ac9e590",
   "metadata": {},
   "outputs": [
    {
     "name": "stdout",
     "output_type": "stream",
     "text": [
      "multiple\n",
      "highest-ever\n",
      "fittingly,\n",
      "legendary\n",
      "celebrated\n",
      "remarkable\n",
      "dug-out.\n",
      "memorable\n",
      "cricket,\n",
      "australia's\n",
      "unbeaten\n",
      "australia's\n",
      "australia's\n",
      "stunning\n",
      "international\n",
      "last-over\n",
      "no-ball,\n",
      "australia,\n"
     ]
    }
   ],
   "source": [
    "filter_long_words(\"There were multiple heroes for India in what ended up as their highest-ever run chase in the history of women's ODI cricket on Sunday. Fittingly, it was the legendary Jhulan Goswami who hit the winning runs as India players celebrated the remarkable victory from the dug-out. In a memorable year for Indian cricket, the men's team ended Australia's unbeaten run in Tests at the Gabba while the women's team have stopped Australia's winning run in women's ODIs a streak that began with Alyssa Healy's side beating India 3-0 in a series in India in 2018. India came close to ending Australia's stunning record in women's one-day international cricket on Friday but they lost by 2 runs after a last-over drama in which a no-ball, which went in favor of Australia, created ripples on social media\",7)"
   ]
  },
  {
   "cell_type": "markdown",
   "id": "629e86c2",
   "metadata": {},
   "source": [
    "Question-3: Write a Python program using function concept that maps list of words into a list of integers\n",
    "representing the lengths of the corresponding words.\n",
    "Hint: If a list [ ab,cde,erty] is passed on to the python function output should come as [2,3,4]\n",
    "Here 2,3 and 4 are the lengths of the words in the list."
   ]
  },
  {
   "cell_type": "code",
   "execution_count": 40,
   "id": "d63dd788",
   "metadata": {},
   "outputs": [],
   "source": [
    "def length(string):\n",
    "    a=[]\n",
    "    for i in string.lower().split():\n",
    "        a.append(len(i))\n",
    "\n",
    "    return a"
   ]
  },
  {
   "cell_type": "code",
   "execution_count": 41,
   "id": "352b75fa",
   "metadata": {},
   "outputs": [
    {
     "data": {
      "text/plain": [
       "[1, 2, 2, 4, 2, 2, 4, 2, 7]"
      ]
     },
     "execution_count": 41,
     "metadata": {},
     "output_type": "execute_result"
    }
   ],
   "source": [
    "length(\"I am so glad to be part of Ineuron\")"
   ]
  },
  {
   "cell_type": "markdown",
   "id": "9df91f0d",
   "metadata": {},
   "source": [
    "Question-4: Write a Python function which takes a character (i.e. a string of length 1) and returns True if\n",
    "it is a vowel, False otherwise.\n"
   ]
  },
  {
   "cell_type": "code",
   "execution_count": 72,
   "id": "08a31bae",
   "metadata": {},
   "outputs": [],
   "source": [
    "def vowels(string):\n",
    "    if string in 'a e i o u'.split():\n",
    "        return True\n",
    "    else:\n",
    "        return False"
   ]
  },
  {
   "cell_type": "code",
   "execution_count": 81,
   "id": "e77e8638",
   "metadata": {},
   "outputs": [
    {
     "data": {
      "text/plain": [
       "False"
      ]
     },
     "execution_count": 81,
     "metadata": {},
     "output_type": "execute_result"
    }
   ],
   "source": [
    "vowels('n')"
   ]
  },
  {
   "cell_type": "code",
   "execution_count": null,
   "id": "b573eea8",
   "metadata": {},
   "outputs": [],
   "source": []
  },
  {
   "cell_type": "code",
   "execution_count": null,
   "id": "458938c2",
   "metadata": {},
   "outputs": [],
   "source": []
  },
  {
   "cell_type": "code",
   "execution_count": null,
   "id": "02747cb4",
   "metadata": {},
   "outputs": [],
   "source": []
  },
  {
   "cell_type": "code",
   "execution_count": null,
   "id": "42c0cb2e",
   "metadata": {},
   "outputs": [],
   "source": []
  }
 ],
 "metadata": {
  "kernelspec": {
   "display_name": "Python 3",
   "language": "python",
   "name": "python3"
  },
  "language_info": {
   "codemirror_mode": {
    "name": "ipython",
    "version": 3
   },
   "file_extension": ".py",
   "mimetype": "text/x-python",
   "name": "python",
   "nbconvert_exporter": "python",
   "pygments_lexer": "ipython3",
   "version": "3.8.8"
  }
 },
 "nbformat": 4,
 "nbformat_minor": 5
}
